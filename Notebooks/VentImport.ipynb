{
 "cells": [
  {
   "cell_type": "code",
   "execution_count": 1,
   "id": "e898817f-11df-4a16-960d-1c415afe6757",
   "metadata": {},
   "outputs": [
    {
     "name": "stdout",
     "output_type": "stream",
     "text": [
      "Starting Simcenter Studio Simulation 2404 service...\n",
      "Starting APIs (usually takes about 10 seconds)...\n",
      "Done\n"
     ]
    }
   ],
   "source": [
    "%service start simulation\n",
    "systemmodel = acel.lib.ame2scs('Ventilator_Studio.ame', 'amesim_model')"
   ]
  },
  {
   "cell_type": "code",
   "execution_count": 2,
   "id": "46b23cac-ddf8-4b10-9d56-6e3b78a6f249",
   "metadata": {},
   "outputs": [
    {
     "data": {
      "application/vnd.jupyter.widget-view+json": {
       "model_id": "d1830b6da7644e789bb9eabf07101da1",
       "version_major": 2,
       "version_minor": 0
      },
      "text/plain": [
       "VBox(children=(HBox(children=(Button(button_style='primary', description='Hierarchical', icon='sitemap', layout=Layout(flex='auto', height='50px'), style=ButtonStyle(), tooltip='Click to switch view'), Button(description='Internal', icon='th-large', layout=Layout(flex='auto', height='50px'), style=ButtonStyle(), tooltip='Click to switch view')), layout=Layout(display='flex', flex_flow='row wrap')), Dropdown(layout=Layout(height='50px', width='auto'), options=(('amesim_model', System:amesim_model:id0), ('|  gm_def', Asset:gm_def:id18), ('|  gm_gas_data', Asset:gm_gas_data:id48), ('|  gm_gas_data_1', Asset:gm_gas_data_1:id53), ('|  gm_gas_data_2', Asset:gm_gas_data_2:id58), ('|  gm_gas_data_3', Asset:gm_gas_data_3:id63), ('|  ma_fluid_data', Asset:ma_fluid_data:id68), ('|  ma_condensate_definition', Asset:ma_condensate_definition:id81), ('|  Room_Air', Asset:Room_Air:id91), ('|  O2Inlet', Asset:O2Inlet:id121), ('|  Vent_to_Humid_Pipe', Asset:Vent_to_Humid_Pipe:id151), ('|  FeedValve', Asset:FeedValve:id183), ('|  Patient', Asset:Patient:id213), ('|  gm_node3_3', Asset:gm_node3_3:id231), ('|  Insp_Pipe', Asset:Insp_Pipe:id283), ('|  Exp_Pipe', Asset:Exp_Pipe:id344), ('|  splitter2p', Asset:splitter2p:id405), ('|  Controller', Asset:Controller:id416), ('|  Humidifier', Asset:Humidifier:id429), ('|  Ventilator', Asset:Ventilator:id436), ('|  Expiration', Asset:Expiration:id452), ('|  VolSensor', Asset:VolSensor:id458), ('|  P_O2_Sensor', Asset:P_O2_Sensor:id468)), value=System:amesim_model:id0), Output()))"
      ]
     },
     "metadata": {},
     "output_type": "display_data"
    }
   ],
   "source": [
    "acel.lib.displayAcelModel(systemmodel)"
   ]
  },
  {
   "cell_type": "code",
   "execution_count": 3,
   "id": "a16b94a5-1bbd-436a-a081-4a9078942c87",
   "metadata": {},
   "outputs": [],
   "source": [
    "acel.lib.acelfile(systemmodel, 'Ventilator_Acel')"
   ]
  },
  {
   "cell_type": "code",
   "execution_count": 4,
   "id": "fa86fcf0-405d-4649-8d93-cb4eff1a103a",
   "metadata": {},
   "outputs": [
    {
     "name": "stdout",
     "output_type": "stream",
     "text": [
      "Stopping Simcenter Studio Simulation service...\n",
      "Done\n"
     ]
    }
   ],
   "source": [
    "%service stop simulation"
   ]
  },
  {
   "cell_type": "code",
   "execution_count": null,
   "id": "d05b43be-9746-41d9-b21f-32cb6731a0c5",
   "metadata": {},
   "outputs": [],
   "source": []
  }
 ],
 "metadata": {
  "kernelspec": {
   "display_name": "Studio (py)",
   "language": "py",
   "name": "studio-py"
  },
  "language_info": {
   "codemirror_mode": "py",
   "mimetype": "text/x-studio-py",
   "name": "py",
   "pygments_lexer": "studio-py"
  }
 },
 "nbformat": 4,
 "nbformat_minor": 5
}
